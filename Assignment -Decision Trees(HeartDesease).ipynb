{
 "cells": [
  {
   "cell_type": "code",
   "execution_count": 1,
   "id": "89b2bd18-420e-446d-8f3f-a6fcb475c3cf",
   "metadata": {},
   "outputs": [],
   "source": [
    "import pandas as pd\n",
    "import numpy as np\n",
    "import matplotlib.pyplot as plt\n",
    "import seaborn as sns"
   ]
  },
  {
   "cell_type": "code",
   "execution_count": 2,
   "id": "717b4113-93ae-4e14-8072-2bc9c7e78803",
   "metadata": {},
   "outputs": [],
   "source": [
    "df=pd.read_csv(\"heart_disease.csv\")"
   ]
  },
  {
   "cell_type": "code",
   "execution_count": 3,
   "id": "e8cbd179-be07-493f-87f1-739d45e017ff",
   "metadata": {},
   "outputs": [],
   "source": [
    "df1=pd.read_csv(\"heart_disease.csv\")"
   ]
  },
  {
   "cell_type": "code",
   "execution_count": 4,
   "id": "d63a543b-3fde-4eaa-a2e3-008c747ec45b",
   "metadata": {},
   "outputs": [
    {
     "data": {
      "text/html": [
       "<div>\n",
       "<style scoped>\n",
       "    .dataframe tbody tr th:only-of-type {\n",
       "        vertical-align: middle;\n",
       "    }\n",
       "\n",
       "    .dataframe tbody tr th {\n",
       "        vertical-align: top;\n",
       "    }\n",
       "\n",
       "    .dataframe thead th {\n",
       "        text-align: right;\n",
       "    }\n",
       "</style>\n",
       "<table border=\"1\" class=\"dataframe\">\n",
       "  <thead>\n",
       "    <tr style=\"text-align: right;\">\n",
       "      <th></th>\n",
       "      <th>age</th>\n",
       "      <th>sex</th>\n",
       "      <th>cp</th>\n",
       "      <th>trestbps</th>\n",
       "      <th>chol</th>\n",
       "      <th>fbs</th>\n",
       "      <th>restecg</th>\n",
       "      <th>thalch</th>\n",
       "      <th>exang</th>\n",
       "      <th>oldpeak</th>\n",
       "      <th>slope</th>\n",
       "      <th>thal</th>\n",
       "      <th>num</th>\n",
       "    </tr>\n",
       "  </thead>\n",
       "  <tbody>\n",
       "    <tr>\n",
       "      <th>0</th>\n",
       "      <td>63</td>\n",
       "      <td>Male</td>\n",
       "      <td>typical angina</td>\n",
       "      <td>145</td>\n",
       "      <td>233</td>\n",
       "      <td>True</td>\n",
       "      <td>lv hypertrophy</td>\n",
       "      <td>150</td>\n",
       "      <td>FALSE</td>\n",
       "      <td>2.3</td>\n",
       "      <td>downsloping</td>\n",
       "      <td>fixed defect</td>\n",
       "      <td>0</td>\n",
       "    </tr>\n",
       "    <tr>\n",
       "      <th>1</th>\n",
       "      <td>41</td>\n",
       "      <td>Male</td>\n",
       "      <td>atypical angina</td>\n",
       "      <td>135</td>\n",
       "      <td>203</td>\n",
       "      <td>False</td>\n",
       "      <td>normal</td>\n",
       "      <td>132</td>\n",
       "      <td>FALSE</td>\n",
       "      <td>0.0</td>\n",
       "      <td>flat</td>\n",
       "      <td>fixed defect</td>\n",
       "      <td>0</td>\n",
       "    </tr>\n",
       "    <tr>\n",
       "      <th>2</th>\n",
       "      <td>57</td>\n",
       "      <td>Male</td>\n",
       "      <td>asymptomatic</td>\n",
       "      <td>140</td>\n",
       "      <td>192</td>\n",
       "      <td>False</td>\n",
       "      <td>normal</td>\n",
       "      <td>148</td>\n",
       "      <td>FALSE</td>\n",
       "      <td>0.4</td>\n",
       "      <td>flat</td>\n",
       "      <td>fixed defect</td>\n",
       "      <td>0</td>\n",
       "    </tr>\n",
       "    <tr>\n",
       "      <th>3</th>\n",
       "      <td>52</td>\n",
       "      <td>Male</td>\n",
       "      <td>typical angina</td>\n",
       "      <td>118</td>\n",
       "      <td>186</td>\n",
       "      <td>False</td>\n",
       "      <td>lv hypertrophy</td>\n",
       "      <td>190</td>\n",
       "      <td>FALSE</td>\n",
       "      <td>0.0</td>\n",
       "      <td>flat</td>\n",
       "      <td>fixed defect</td>\n",
       "      <td>0</td>\n",
       "    </tr>\n",
       "    <tr>\n",
       "      <th>4</th>\n",
       "      <td>57</td>\n",
       "      <td>Male</td>\n",
       "      <td>asymptomatic</td>\n",
       "      <td>110</td>\n",
       "      <td>201</td>\n",
       "      <td>False</td>\n",
       "      <td>normal</td>\n",
       "      <td>126</td>\n",
       "      <td>TRUE</td>\n",
       "      <td>1.5</td>\n",
       "      <td>flat</td>\n",
       "      <td>fixed defect</td>\n",
       "      <td>0</td>\n",
       "    </tr>\n",
       "  </tbody>\n",
       "</table>\n",
       "</div>"
      ],
      "text/plain": [
       "   age   sex               cp  trestbps  chol    fbs         restecg  thalch  \\\n",
       "0   63  Male   typical angina       145   233   True  lv hypertrophy     150   \n",
       "1   41  Male  atypical angina       135   203  False          normal     132   \n",
       "2   57  Male     asymptomatic       140   192  False          normal     148   \n",
       "3   52  Male   typical angina       118   186  False  lv hypertrophy     190   \n",
       "4   57  Male     asymptomatic       110   201  False          normal     126   \n",
       "\n",
       "   exang  oldpeak        slope          thal  num  \n",
       "0  FALSE      2.3  downsloping  fixed defect    0  \n",
       "1  FALSE      0.0         flat  fixed defect    0  \n",
       "2  FALSE      0.4         flat  fixed defect    0  \n",
       "3  FALSE      0.0         flat  fixed defect    0  \n",
       "4   TRUE      1.5         flat  fixed defect    0  "
      ]
     },
     "execution_count": 4,
     "metadata": {},
     "output_type": "execute_result"
    }
   ],
   "source": [
    "df.head()"
   ]
  },
  {
   "cell_type": "code",
   "execution_count": 5,
   "id": "d92c8c57-b094-4313-b481-4cf88768cee8",
   "metadata": {},
   "outputs": [
    {
     "name": "stdout",
     "output_type": "stream",
     "text": [
      "<class 'pandas.core.frame.DataFrame'>\n",
      "RangeIndex: 908 entries, 0 to 907\n",
      "Data columns (total 13 columns):\n",
      " #   Column    Non-Null Count  Dtype  \n",
      "---  ------    --------------  -----  \n",
      " 0   age       908 non-null    int64  \n",
      " 1   sex       908 non-null    object \n",
      " 2   cp        908 non-null    object \n",
      " 3   trestbps  908 non-null    int64  \n",
      " 4   chol      908 non-null    int64  \n",
      " 5   fbs       908 non-null    bool   \n",
      " 6   restecg   908 non-null    object \n",
      " 7   thalch    908 non-null    int64  \n",
      " 8   exang     908 non-null    object \n",
      " 9   oldpeak   846 non-null    float64\n",
      " 10  slope     908 non-null    object \n",
      " 11  thal      908 non-null    object \n",
      " 12  num       908 non-null    int64  \n",
      "dtypes: bool(1), float64(1), int64(5), object(6)\n",
      "memory usage: 86.1+ KB\n"
     ]
    }
   ],
   "source": [
    "df.info()"
   ]
  },
  {
   "cell_type": "code",
   "execution_count": 6,
   "id": "7bddf013-b66a-4491-9c31-8acf7ff769d7",
   "metadata": {},
   "outputs": [
    {
     "data": {
      "text/plain": [
       "62"
      ]
     },
     "execution_count": 6,
     "metadata": {},
     "output_type": "execute_result"
    }
   ],
   "source": [
    "df[\"oldpeak\"].isnull().sum()"
   ]
  },
  {
   "cell_type": "code",
   "execution_count": 12,
   "id": "95b5eaff-073e-4caa-b945-a4d250de95a5",
   "metadata": {},
   "outputs": [
    {
     "data": {
      "text/html": [
       "<div>\n",
       "<style scoped>\n",
       "    .dataframe tbody tr th:only-of-type {\n",
       "        vertical-align: middle;\n",
       "    }\n",
       "\n",
       "    .dataframe tbody tr th {\n",
       "        vertical-align: top;\n",
       "    }\n",
       "\n",
       "    .dataframe thead th {\n",
       "        text-align: right;\n",
       "    }\n",
       "</style>\n",
       "<table border=\"1\" class=\"dataframe\">\n",
       "  <thead>\n",
       "    <tr style=\"text-align: right;\">\n",
       "      <th></th>\n",
       "      <th>age</th>\n",
       "      <th>trestbps</th>\n",
       "      <th>chol</th>\n",
       "      <th>thalch</th>\n",
       "      <th>oldpeak</th>\n",
       "      <th>num</th>\n",
       "    </tr>\n",
       "  </thead>\n",
       "  <tbody>\n",
       "    <tr>\n",
       "      <th>count</th>\n",
       "      <td>908.000000</td>\n",
       "      <td>908.000000</td>\n",
       "      <td>908.000000</td>\n",
       "      <td>908.000000</td>\n",
       "      <td>846.000000</td>\n",
       "      <td>908.000000</td>\n",
       "    </tr>\n",
       "    <tr>\n",
       "      <th>mean</th>\n",
       "      <td>53.791850</td>\n",
       "      <td>133.430617</td>\n",
       "      <td>201.484581</td>\n",
       "      <td>135.957048</td>\n",
       "      <td>0.891253</td>\n",
       "      <td>1.008811</td>\n",
       "    </tr>\n",
       "    <tr>\n",
       "      <th>std</th>\n",
       "      <td>9.158031</td>\n",
       "      <td>20.401608</td>\n",
       "      <td>112.097949</td>\n",
       "      <td>26.804929</td>\n",
       "      <td>1.093875</td>\n",
       "      <td>1.144436</td>\n",
       "    </tr>\n",
       "    <tr>\n",
       "      <th>min</th>\n",
       "      <td>29.000000</td>\n",
       "      <td>0.000000</td>\n",
       "      <td>0.000000</td>\n",
       "      <td>60.000000</td>\n",
       "      <td>-2.600000</td>\n",
       "      <td>0.000000</td>\n",
       "    </tr>\n",
       "    <tr>\n",
       "      <th>25%</th>\n",
       "      <td>47.750000</td>\n",
       "      <td>120.000000</td>\n",
       "      <td>176.750000</td>\n",
       "      <td>118.000000</td>\n",
       "      <td>0.000000</td>\n",
       "      <td>0.000000</td>\n",
       "    </tr>\n",
       "    <tr>\n",
       "      <th>50%</th>\n",
       "      <td>54.000000</td>\n",
       "      <td>130.000000</td>\n",
       "      <td>224.000000</td>\n",
       "      <td>138.000000</td>\n",
       "      <td>0.500000</td>\n",
       "      <td>1.000000</td>\n",
       "    </tr>\n",
       "    <tr>\n",
       "      <th>75%</th>\n",
       "      <td>60.000000</td>\n",
       "      <td>144.000000</td>\n",
       "      <td>270.000000</td>\n",
       "      <td>156.000000</td>\n",
       "      <td>1.500000</td>\n",
       "      <td>2.000000</td>\n",
       "    </tr>\n",
       "    <tr>\n",
       "      <th>max</th>\n",
       "      <td>77.000000</td>\n",
       "      <td>200.000000</td>\n",
       "      <td>603.000000</td>\n",
       "      <td>202.000000</td>\n",
       "      <td>6.200000</td>\n",
       "      <td>4.000000</td>\n",
       "    </tr>\n",
       "  </tbody>\n",
       "</table>\n",
       "</div>"
      ],
      "text/plain": [
       "              age    trestbps        chol      thalch     oldpeak         num\n",
       "count  908.000000  908.000000  908.000000  908.000000  846.000000  908.000000\n",
       "mean    53.791850  133.430617  201.484581  135.957048    0.891253    1.008811\n",
       "std      9.158031   20.401608  112.097949   26.804929    1.093875    1.144436\n",
       "min     29.000000    0.000000    0.000000   60.000000   -2.600000    0.000000\n",
       "25%     47.750000  120.000000  176.750000  118.000000    0.000000    0.000000\n",
       "50%     54.000000  130.000000  224.000000  138.000000    0.500000    1.000000\n",
       "75%     60.000000  144.000000  270.000000  156.000000    1.500000    2.000000\n",
       "max     77.000000  200.000000  603.000000  202.000000    6.200000    4.000000"
      ]
     },
     "execution_count": 12,
     "metadata": {},
     "output_type": "execute_result"
    }
   ],
   "source": [
    "df.describe()"
   ]
  },
  {
   "cell_type": "code",
   "execution_count": 15,
   "id": "74757016-cec2-4c7e-a84b-107bf87efcda",
   "metadata": {},
   "outputs": [
    {
     "data": {
      "text/plain": [
       "-0.13679653817221868"
      ]
     },
     "execution_count": 15,
     "metadata": {},
     "output_type": "execute_result"
    }
   ],
   "source": [
    "df[\"age\"].skew()"
   ]
  },
  {
   "cell_type": "code",
   "execution_count": 17,
   "id": "c760e9dd-0955-4628-a229-422076c97183",
   "metadata": {},
   "outputs": [
    {
     "data": {
      "text/plain": [
       "0.3536499733817675"
      ]
     },
     "execution_count": 17,
     "metadata": {},
     "output_type": "execute_result"
    }
   ],
   "source": [
    "df[\"trestbps\"].skew()"
   ]
  },
  {
   "cell_type": "code",
   "execution_count": 19,
   "id": "22fdbf6a-d386-4af4-8c5d-fe1f7e6b1a5f",
   "metadata": {},
   "outputs": [
    {
     "data": {
      "text/plain": [
       "-0.564765692042219"
      ]
     },
     "execution_count": 19,
     "metadata": {},
     "output_type": "execute_result"
    }
   ],
   "source": [
    "df[\"chol\"].skew()"
   ]
  },
  {
   "cell_type": "code",
   "execution_count": 20,
   "id": "8d50636f-2a46-4c12-94b4-b86cb8ccafd8",
   "metadata": {},
   "outputs": [
    {
     "name": "stderr",
     "output_type": "stream",
     "text": [
      "C:\\Users\\jabir\\AppData\\Local\\Temp\\ipykernel_3856\\3855091907.py:1: FutureWarning: A value is trying to be set on a copy of a DataFrame or Series through chained assignment using an inplace method.\n",
      "The behavior will change in pandas 3.0. This inplace method will never work because the intermediate object on which we are setting values always behaves as a copy.\n",
      "\n",
      "For example, when doing 'df[col].method(value, inplace=True)', try using 'df.method({col: value}, inplace=True)' or df[col] = df[col].method(value) instead, to perform the operation inplace on the original object.\n",
      "\n",
      "\n",
      "  df[\"oldpeak\"].fillna(value=df[\"oldpeak\"].mean(),inplace=True)\n"
     ]
    }
   ],
   "source": [
    "df[\"oldpeak\"].fillna(value=df[\"oldpeak\"].mean(),inplace=True)"
   ]
  },
  {
   "cell_type": "code",
   "execution_count": 21,
   "id": "ab5ea497-be55-4b97-a254-dcc692f169e2",
   "metadata": {},
   "outputs": [
    {
     "data": {
      "text/plain": [
       "0"
      ]
     },
     "execution_count": 21,
     "metadata": {},
     "output_type": "execute_result"
    }
   ],
   "source": [
    "df[\"oldpeak\"].isnull().sum()"
   ]
  },
  {
   "cell_type": "code",
   "execution_count": 25,
   "id": "7ea8c1ef-19d3-4e3d-b44e-08f0c4861f7e",
   "metadata": {},
   "outputs": [
    {
     "name": "stdout",
     "output_type": "stream",
     "text": [
      "<class 'pandas.core.frame.DataFrame'>\n",
      "RangeIndex: 908 entries, 0 to 907\n",
      "Data columns (total 13 columns):\n",
      " #   Column    Non-Null Count  Dtype  \n",
      "---  ------    --------------  -----  \n",
      " 0   age       908 non-null    int64  \n",
      " 1   sex       908 non-null    object \n",
      " 2   cp        908 non-null    object \n",
      " 3   trestbps  908 non-null    int64  \n",
      " 4   chol      908 non-null    int64  \n",
      " 5   fbs       908 non-null    bool   \n",
      " 6   restecg   908 non-null    object \n",
      " 7   thalch    908 non-null    int64  \n",
      " 8   exang     908 non-null    object \n",
      " 9   oldpeak   908 non-null    float64\n",
      " 10  slope     908 non-null    object \n",
      " 11  thal      908 non-null    object \n",
      " 12  num       908 non-null    int64  \n",
      "dtypes: bool(1), float64(1), int64(5), object(6)\n",
      "memory usage: 86.1+ KB\n"
     ]
    }
   ],
   "source": [
    "df.info()"
   ]
  },
  {
   "cell_type": "code",
   "execution_count": 26,
   "id": "614a5142-8de7-4d86-99c1-62eecb11d9ab",
   "metadata": {},
   "outputs": [
    {
     "data": {
      "text/plain": [
       "array(['typical angina', 'atypical angina', 'asymptomatic', 'non-anginal'],\n",
       "      dtype=object)"
      ]
     },
     "execution_count": 26,
     "metadata": {},
     "output_type": "execute_result"
    }
   ],
   "source": [
    "df[\"cp\"].unique()#types of chest pain"
   ]
  },
  {
   "cell_type": "code",
   "execution_count": 27,
   "id": "4bd34563-2e6c-4e75-a843-e08613377e8b",
   "metadata": {},
   "outputs": [
    {
     "data": {
      "text/plain": [
       "array([ True, False])"
      ]
     },
     "execution_count": 27,
     "metadata": {},
     "output_type": "execute_result"
    }
   ],
   "source": [
    "df[\"fbs\"].unique()#fasting blood sugar level>120"
   ]
  },
  {
   "cell_type": "code",
   "execution_count": 28,
   "id": "25a00f32-8201-4055-a52c-19b8f758d8ac",
   "metadata": {},
   "outputs": [
    {
     "data": {
      "text/plain": [
       "array(['lv hypertrophy', 'normal', 'st-t abnormality'], dtype=object)"
      ]
     },
     "execution_count": 28,
     "metadata": {},
     "output_type": "execute_result"
    }
   ],
   "source": [
    "df[\"restecg\"].unique()#resting ecg(0,1,2)"
   ]
  },
  {
   "cell_type": "code",
   "execution_count": 33,
   "id": "ffd52eaa-1007-4589-be67-7b5fd6298560",
   "metadata": {},
   "outputs": [
    {
     "data": {
      "text/plain": [
       "array(['FALSE', 'TRUE', 'TURE'], dtype=object)"
      ]
     },
     "execution_count": 33,
     "metadata": {},
     "output_type": "execute_result"
    }
   ],
   "source": [
    "df[\"exang\"].unique()#exercised induced angina"
   ]
  },
  {
   "cell_type": "code",
   "execution_count": 35,
   "id": "fc2a0f90-74fe-4c45-abc9-c5b598831d8a",
   "metadata": {},
   "outputs": [],
   "source": [
    "filtered_df=df[\"exang\"][df[\"exang\"]==\"TURE\"]"
   ]
  },
  {
   "cell_type": "code",
   "execution_count": 37,
   "id": "aa1a9008-26b5-4c8c-9c77-53fe3c66d41f",
   "metadata": {},
   "outputs": [],
   "source": [
    " filtered_df=df[\"exang\"]==\"TRUE\""
   ]
  },
  {
   "cell_type": "code",
   "execution_count": 39,
   "id": "06160081-67aa-4293-b35d-122da45bfb7b",
   "metadata": {},
   "outputs": [],
   "source": [
    "df[\"exang\"]=filtered_df"
   ]
  },
  {
   "cell_type": "code",
   "execution_count": 41,
   "id": "edf4f153-edf1-4917-9265-9326fa01e5b0",
   "metadata": {},
   "outputs": [],
   "source": [
    "df1[\"exang\"]=df[\"exang\"]"
   ]
  },
  {
   "cell_type": "code",
   "execution_count": 43,
   "id": "1005392e-7250-4709-9591-6850717438c6",
   "metadata": {},
   "outputs": [
    {
     "data": {
      "text/plain": [
       "array([False,  True])"
      ]
     },
     "execution_count": 43,
     "metadata": {},
     "output_type": "execute_result"
    }
   ],
   "source": [
    "df[\"exang\"].unique()"
   ]
  },
  {
   "cell_type": "code",
   "execution_count": 45,
   "id": "6c13820d-7ec6-4fcb-858d-e921a8e2af08",
   "metadata": {},
   "outputs": [
    {
     "data": {
      "text/plain": [
       "array([0, 1, 2, 3, 4], dtype=int64)"
      ]
     },
     "execution_count": 45,
     "metadata": {},
     "output_type": "execute_result"
    }
   ],
   "source": [
    "df[\"num\"].unique()"
   ]
  },
  {
   "cell_type": "code",
   "execution_count": 47,
   "id": "90ce9df4-2203-4b8d-8a09-c093bee12134",
   "metadata": {},
   "outputs": [
    {
     "data": {
      "text/plain": [
       "array(['fixed defect', 'normal', 'reversable defect'], dtype=object)"
      ]
     },
     "execution_count": 47,
     "metadata": {},
     "output_type": "execute_result"
    }
   ],
   "source": [
    "df[\"thal\"].unique()"
   ]
  },
  {
   "cell_type": "code",
   "execution_count": 49,
   "id": "12f8e4d1-682f-4a26-9b1b-94161707951a",
   "metadata": {},
   "outputs": [
    {
     "data": {
      "text/plain": [
       "0"
      ]
     },
     "execution_count": 49,
     "metadata": {},
     "output_type": "execute_result"
    }
   ],
   "source": [
    "df[\"trestbps\"].isnull().sum()"
   ]
  },
  {
   "cell_type": "code",
   "execution_count": 51,
   "id": "33ee0382-4241-4239-88b0-4ae81e337dc2",
   "metadata": {},
   "outputs": [],
   "source": [
    "from sklearn.preprocessing import LabelEncoder,StandardScaler\n",
    "from sklearn.model_selection import train_test_split\n",
    "from sklearn.metrics import mean_squared_error,accuracy_score,recall_score,f1_score,precision_score"
   ]
  },
  {
   "cell_type": "code",
   "execution_count": 52,
   "id": "cc53b4a2-2b88-4eb4-87ff-d4962af2c515",
   "metadata": {},
   "outputs": [],
   "source": [
    "LE=LabelEncoder()"
   ]
  },
  {
   "cell_type": "code",
   "execution_count": 53,
   "id": "9d29e275-93eb-4cf8-9ba8-84791245f65d",
   "metadata": {},
   "outputs": [],
   "source": [
    "SS=StandardScaler()"
   ]
  },
  {
   "cell_type": "code",
   "execution_count": 57,
   "id": "bb97d3db-75ea-4e6f-8a8d-013d20b1919e",
   "metadata": {},
   "outputs": [],
   "source": [
    "#let's convert categorical data to numerical data"
   ]
  },
  {
   "cell_type": "code",
   "execution_count": 59,
   "id": "2a0000e7-b550-48fd-b269-a64515e0c904",
   "metadata": {},
   "outputs": [
    {
     "data": {
      "text/html": [
       "<div>\n",
       "<style scoped>\n",
       "    .dataframe tbody tr th:only-of-type {\n",
       "        vertical-align: middle;\n",
       "    }\n",
       "\n",
       "    .dataframe tbody tr th {\n",
       "        vertical-align: top;\n",
       "    }\n",
       "\n",
       "    .dataframe thead th {\n",
       "        text-align: right;\n",
       "    }\n",
       "</style>\n",
       "<table border=\"1\" class=\"dataframe\">\n",
       "  <thead>\n",
       "    <tr style=\"text-align: right;\">\n",
       "      <th></th>\n",
       "      <th>age</th>\n",
       "      <th>sex</th>\n",
       "      <th>cp</th>\n",
       "      <th>trestbps</th>\n",
       "      <th>chol</th>\n",
       "      <th>fbs</th>\n",
       "      <th>restecg</th>\n",
       "      <th>thalch</th>\n",
       "      <th>exang</th>\n",
       "      <th>oldpeak</th>\n",
       "      <th>slope</th>\n",
       "      <th>thal</th>\n",
       "      <th>num</th>\n",
       "    </tr>\n",
       "  </thead>\n",
       "  <tbody>\n",
       "    <tr>\n",
       "      <th>0</th>\n",
       "      <td>63</td>\n",
       "      <td>1</td>\n",
       "      <td>3</td>\n",
       "      <td>145</td>\n",
       "      <td>233</td>\n",
       "      <td>1</td>\n",
       "      <td>0</td>\n",
       "      <td>150</td>\n",
       "      <td>0</td>\n",
       "      <td>2.3</td>\n",
       "      <td>0</td>\n",
       "      <td>0</td>\n",
       "      <td>0</td>\n",
       "    </tr>\n",
       "    <tr>\n",
       "      <th>1</th>\n",
       "      <td>41</td>\n",
       "      <td>1</td>\n",
       "      <td>1</td>\n",
       "      <td>135</td>\n",
       "      <td>203</td>\n",
       "      <td>0</td>\n",
       "      <td>1</td>\n",
       "      <td>132</td>\n",
       "      <td>0</td>\n",
       "      <td>0.0</td>\n",
       "      <td>1</td>\n",
       "      <td>0</td>\n",
       "      <td>0</td>\n",
       "    </tr>\n",
       "    <tr>\n",
       "      <th>2</th>\n",
       "      <td>57</td>\n",
       "      <td>1</td>\n",
       "      <td>0</td>\n",
       "      <td>140</td>\n",
       "      <td>192</td>\n",
       "      <td>0</td>\n",
       "      <td>1</td>\n",
       "      <td>148</td>\n",
       "      <td>0</td>\n",
       "      <td>0.4</td>\n",
       "      <td>1</td>\n",
       "      <td>0</td>\n",
       "      <td>0</td>\n",
       "    </tr>\n",
       "    <tr>\n",
       "      <th>3</th>\n",
       "      <td>52</td>\n",
       "      <td>1</td>\n",
       "      <td>3</td>\n",
       "      <td>118</td>\n",
       "      <td>186</td>\n",
       "      <td>0</td>\n",
       "      <td>0</td>\n",
       "      <td>190</td>\n",
       "      <td>0</td>\n",
       "      <td>0.0</td>\n",
       "      <td>1</td>\n",
       "      <td>0</td>\n",
       "      <td>0</td>\n",
       "    </tr>\n",
       "    <tr>\n",
       "      <th>4</th>\n",
       "      <td>57</td>\n",
       "      <td>1</td>\n",
       "      <td>0</td>\n",
       "      <td>110</td>\n",
       "      <td>201</td>\n",
       "      <td>0</td>\n",
       "      <td>1</td>\n",
       "      <td>126</td>\n",
       "      <td>1</td>\n",
       "      <td>1.5</td>\n",
       "      <td>1</td>\n",
       "      <td>0</td>\n",
       "      <td>0</td>\n",
       "    </tr>\n",
       "  </tbody>\n",
       "</table>\n",
       "</div>"
      ],
      "text/plain": [
       "   age  sex  cp  trestbps  chol  fbs  restecg  thalch  exang  oldpeak  slope  \\\n",
       "0   63    1   3       145   233    1        0     150      0      2.3      0   \n",
       "1   41    1   1       135   203    0        1     132      0      0.0      1   \n",
       "2   57    1   0       140   192    0        1     148      0      0.4      1   \n",
       "3   52    1   3       118   186    0        0     190      0      0.0      1   \n",
       "4   57    1   0       110   201    0        1     126      1      1.5      1   \n",
       "\n",
       "   thal  num  \n",
       "0     0    0  \n",
       "1     0    0  \n",
       "2     0    0  \n",
       "3     0    0  \n",
       "4     0    0  "
      ]
     },
     "execution_count": 59,
     "metadata": {},
     "output_type": "execute_result"
    }
   ],
   "source": [
    "df['sex'] = LE.fit_transform(df['sex'])\n",
    "df['cp'] = LE.fit_transform(df['cp'])\n",
    "df['fbs'] = LE.fit_transform(df['fbs'])\n",
    "df['restecg'] = LE.fit_transform(df['restecg'])\n",
    "df['exang'] = LE.fit_transform(df['exang'])\n",
    "df['slope'] = LE.fit_transform(df['slope'])\n",
    "df['thal'] = LE.fit_transform(df['thal'])\n",
    "df.head()"
   ]
  },
  {
   "cell_type": "markdown",
   "id": "426999f0-7c6c-4b32-a0ef-eaa0b80f2a8f",
   "metadata": {},
   "source": [
    "our target variable is a multiclass classification"
   ]
  },
  {
   "cell_type": "code",
   "execution_count": 62,
   "id": "674846c9-0f66-4db6-b3fb-be8f00a263d4",
   "metadata": {},
   "outputs": [],
   "source": [
    "#let's standardize our numerical data"
   ]
  },
  {
   "cell_type": "code",
   "execution_count": 64,
   "id": "01047239-5e9b-49d6-b2df-938a149a9c90",
   "metadata": {},
   "outputs": [],
   "source": [
    "relations=df[[\"age\",\"trestbps\",\"chol\",\"thalch\",\"oldpeak\"]]"
   ]
  },
  {
   "cell_type": "markdown",
   "id": "300d6c86-4b43-466c-88b3-28a2eaebd52f",
   "metadata": {},
   "source": [
    "### LET\"S CHECK THE BOX PLOT AND OUTLIERS "
   ]
  },
  {
   "cell_type": "code",
   "execution_count": 67,
   "id": "007bb67c-7d86-41ca-8ec6-49933e7c9fcf",
   "metadata": {},
   "outputs": [
    {
     "data": {
      "image/png": "[encoded data removed]",
      "text/plain": [
       "<Figure size 640x480 with 1 Axes>"
      ]
     },
     "metadata": {},
     "output_type": "display_data"
    }
   ],
   "source": [
    "relations=df[[\"age\",\"trestbps\",\"chol\",\"thalch\",\"oldpeak\"]]\n",
    "sns.boxplot(relations)\n",
    "plt.xlabel(\"box plot for all variables\")\n",
    "plt.ylabel(\"values\")\n",
    "plt.show()"
   ]
  },
  {
   "cell_type": "markdown",
   "id": "b9382896-6295-41cb-9cba-0a35d77690ab",
   "metadata": {},
   "source": [
    "## as we can see here that the variables modtly depict a left skewness and variables trestbps and cholestrol variable has the highest outliers which needs to be treated"
   ]
  },
  {
   "cell_type": "code",
   "execution_count": 70,
   "id": "a6df77a7-d797-4e4d-8062-897f5120b82c",
   "metadata": {},
   "outputs": [],
   "source": [
    "Q1_trestbps=np.percentile(df[\"trestbps\"],25)"
   ]
  },
  {
   "cell_type": "code",
   "execution_count": 72,
   "id": "65e72eae-5ad2-4157-b8c0-b7e0cf9239ba",
   "metadata": {},
   "outputs": [],
   "source": [
    "Q3_trestbps=np.percentile(df[\"trestbps\"],75)"
   ]
  },
  {
   "cell_type": "code",
   "execution_count": 74,
   "id": "75d894a9-a24c-444b-bdf0-cc249c3b8a4c",
   "metadata": {},
   "outputs": [],
   "source": [
    "IQR=(Q3_trestbps)-(Q1_trestbps)"
   ]
  },
  {
   "cell_type": "code",
   "execution_count": 76,
   "id": "7a133d04-8af3-4ab6-963f-8f983dd57f9e",
   "metadata": {},
   "outputs": [],
   "source": [
    "upperwhisker=Q3_trestbps + 1.5*(IQR)"
   ]
  },
  {
   "cell_type": "code",
   "execution_count": 78,
   "id": "e717db62-9491-4679-9295-4e6d20c8f58a",
   "metadata": {},
   "outputs": [],
   "source": [
    "lowerwhisker=Q1_trestbps -1.5*(IQR)"
   ]
  },
  {
   "cell_type": "code",
   "execution_count": 80,
   "id": "e3a0fc65-fd31-4d13-bdbc-17ab6e6db84e",
   "metadata": {},
   "outputs": [
    {
     "name": "stdout",
     "output_type": "stream",
     "text": [
      "Upper whisker value: 180.0\n",
      "Lower whisker value: 84.0\n"
     ]
    }
   ],
   "source": [
    "# Print whisker values\n",
    "print(f\"Upper whisker value: {upperwhisker}\")\n",
    "print(f\"Lower whisker value: {lowerwhisker}\")\n"
   ]
  },
  {
   "cell_type": "code",
   "execution_count": 81,
   "id": "714b7467-3295-45fb-948b-bf81093a8bd5",
   "metadata": {},
   "outputs": [
    {
     "name": "stdout",
     "output_type": "stream",
     "text": [
      "Q1 (25th percentile): 120.0\n",
      "Q3 (75th percentile): 144.0\n"
     ]
    }
   ],
   "source": [
    "print(f\"Q1 (25th percentile): {Q1_trestbps}\")\n",
    "print(f\"Q3 (75th percentile): {Q3_trestbps}\")\n"
   ]
  },
  {
   "cell_type": "code",
   "execution_count": 82,
   "id": "d6c5f8f9-4bd3-498c-a4c6-db126eb4a786",
   "metadata": {},
   "outputs": [],
   "source": [
    "upoutlier=df[\"trestbps\"][df[\"trestbps\"] > upperwhisker].count()#there are 20 outliers in the upper whisker"
   ]
  },
  {
   "cell_type": "code",
   "execution_count": 83,
   "id": "81aea8bf-f0fc-4939-8db9-3139de34a78c",
   "metadata": {},
   "outputs": [],
   "source": [
    "lowoutlier=df[\"trestbps\"][df[\"trestbps\"] < lowerwhisker].count()#there are 2 outliers in the lower whisker"
   ]
  },
  {
   "cell_type": "code",
   "execution_count": 86,
   "id": "183dcbe2-cd8b-43fb-85aa-98b83e9ec7de",
   "metadata": {},
   "outputs": [
    {
     "data": {
      "text/plain": [
       "22"
      ]
     },
     "execution_count": 86,
     "metadata": {},
     "output_type": "execute_result"
    }
   ],
   "source": [
    "total_outliers = upoutlier + lowoutlier\n",
    "total_outliers"
   ]
  },
  {
   "cell_type": "code",
   "execution_count": 90,
   "id": "b75de560-d765-4966-b67f-aebb4f5b7858",
   "metadata": {},
   "outputs": [],
   "source": [
    "uppercondition = df[\"trestbps\"] > upperwhisker   # Outliers above upper whisker\n",
    "lowercondition = df[\"trestbps\"] < lowerwhisker"
   ]
  },
  {
   "cell_type": "code",
   "execution_count": 92,
   "id": "1c7b6ff9-0687-41c2-b037-ead8427648ff",
   "metadata": {},
   "outputs": [],
   "source": [
    "outliers_condition = uppercondition | lowercondition"
   ]
  },
  {
   "cell_type": "code",
   "execution_count": 94,
   "id": "b8d6faaf-2620-49a2-823e-de1e8fa9f9bc",
   "metadata": {},
   "outputs": [],
   "source": [
    "df[\"trestbps\"] = df[\"trestbps\"].where(~outliers_condition, np.nan)"
   ]
  },
  {
   "cell_type": "code",
   "execution_count": 96,
   "id": "eaea2ed2-ea16-461a-966c-baecc06c97cd",
   "metadata": {},
   "outputs": [
    {
     "data": {
      "text/plain": [
       "22"
      ]
     },
     "execution_count": 96,
     "metadata": {},
     "output_type": "execute_result"
    }
   ],
   "source": [
    "df[\"trestbps\"].isnull().sum()"
   ]
  },
  {
   "cell_type": "code",
   "execution_count": 98,
   "id": "20e69f09-4824-46af-bba0-80ebe7b02a82",
   "metadata": {},
   "outputs": [
    {
     "name": "stderr",
     "output_type": "stream",
     "text": [
      "C:\\Users\\jabir\\AppData\\Local\\Temp\\ipykernel_3856\\1906813566.py:1: FutureWarning: A value is trying to be set on a copy of a DataFrame or Series through chained assignment using an inplace method.\n",
      "The behavior will change in pandas 3.0. This inplace method will never work because the intermediate object on which we are setting values always behaves as a copy.\n",
      "\n",
      "For example, when doing 'df[col].method(value, inplace=True)', try using 'df.method({col: value}, inplace=True)' or df[col] = df[col].method(value) instead, to perform the operation inplace on the original object.\n",
      "\n",
      "\n",
      "  df[\"trestbps\"].fillna(value=df[\"trestbps\"].mean(),inplace=True)\n"
     ]
    }
   ],
   "source": [
    "df[\"trestbps\"].fillna(value=df[\"trestbps\"].mean(),inplace=True)"
   ]
  },
  {
   "cell_type": "code",
   "execution_count": 100,
   "id": "67e55cf9-ad16-4be3-ad7e-d3a46e7702e1",
   "metadata": {},
   "outputs": [],
   "source": [
    "Q1_chol=np.percentile(df[\"chol\"],25)"
   ]
  },
  {
   "cell_type": "code",
   "execution_count": 102,
   "id": "3100c46d-79fb-47f5-9a6c-92e76b3a7d05",
   "metadata": {},
   "outputs": [],
   "source": [
    "Q3_chol=np.percentile(df[\"chol\"],75)"
   ]
  },
  {
   "cell_type": "code",
   "execution_count": 104,
   "id": "c7a8f109-0e0b-44ae-82e4-c86759c56858",
   "metadata": {},
   "outputs": [],
   "source": [
    "IQR1=(Q3_chol)-(Q1_chol)"
   ]
  },
  {
   "cell_type": "code",
   "execution_count": 106,
   "id": "4a1c06b9-ca03-42ca-8647-c11eeb637be8",
   "metadata": {},
   "outputs": [],
   "source": [
    "upperwhisker1=Q3_chol + 1.5*(IQR1)"
   ]
  },
  {
   "cell_type": "code",
   "execution_count": 108,
   "id": "05f05908-9bd4-4b6d-a0c1-1790d30554b5",
   "metadata": {},
   "outputs": [],
   "source": [
    "lowerwhisker1=Q1_chol -1.5*(IQR1)"
   ]
  },
  {
   "cell_type": "code",
   "execution_count": 110,
   "id": "16e722f3-7958-419f-9a63-5aaab8bdbd8c",
   "metadata": {},
   "outputs": [
    {
     "data": {
      "text/plain": [
       "15"
      ]
     },
     "execution_count": 110,
     "metadata": {},
     "output_type": "execute_result"
    }
   ],
   "source": [
    "upoutlier1=df[\"chol\"][df[\"chol\"] > upperwhisker1].count()\n",
    "#there are 15 outliers in the upper whisker\n",
    "upoutlier1"
   ]
  },
  {
   "cell_type": "code",
   "execution_count": 112,
   "id": "40a3e7b2-3c3b-4b98-9f62-2824496a7ff8",
   "metadata": {},
   "outputs": [
    {
     "data": {
      "text/plain": [
       "172"
      ]
     },
     "execution_count": 112,
     "metadata": {},
     "output_type": "execute_result"
    }
   ],
   "source": [
    "lowoutlier1=df[\"chol\"][df[\"chol\"] < lowerwhisker1].count()\n",
    "lowoutlier1#there are 2 outliers in the lower whisker"
   ]
  },
  {
   "cell_type": "code",
   "execution_count": 114,
   "id": "3ecc4a42-594e-4697-984f-2e6ebc314d4d",
   "metadata": {},
   "outputs": [
    {
     "data": {
      "text/plain": [
       "187"
      ]
     },
     "execution_count": 114,
     "metadata": {},
     "output_type": "execute_result"
    }
   ],
   "source": [
    "total_outliers1 = upoutlier1 + lowoutlier1\n",
    "total_outliers1"
   ]
  },
  {
   "cell_type": "code",
   "execution_count": 116,
   "id": "d9c9f68c-4fd6-46ae-9fa9-82823f8859a3",
   "metadata": {},
   "outputs": [],
   "source": [
    "uppercondition1 = df[\"chol\"] > upperwhisker1   # Outliers above upper whisker\n",
    "lowercondition1 = df[\"chol\"] < lowerwhisker1"
   ]
  },
  {
   "cell_type": "code",
   "execution_count": 118,
   "id": "6b14f80d-698a-43c3-ba2d-a461dc0c97ad",
   "metadata": {},
   "outputs": [],
   "source": [
    "outliers_condition1 = uppercondition1 | lowercondition1"
   ]
  },
  {
   "cell_type": "code",
   "execution_count": 120,
   "id": "90fa9754-a499-4df2-a691-92fb6c9914dd",
   "metadata": {},
   "outputs": [],
   "source": [
    "df[\"chol\"] = df[\"chol\"].where(~outliers_condition1, np.nan)"
   ]
  },
  {
   "cell_type": "code",
   "execution_count": 122,
   "id": "5089195d-f226-476c-a950-f6161446b79f",
   "metadata": {},
   "outputs": [
    {
     "data": {
      "text/plain": [
       "187"
      ]
     },
     "execution_count": 122,
     "metadata": {},
     "output_type": "execute_result"
    }
   ],
   "source": [
    "df[\"chol\"].isnull().sum()"
   ]
  },
  {
   "cell_type": "code",
   "execution_count": 124,
   "id": "286e6ef0-63a9-40e8-85c3-aee550fcace9",
   "metadata": {},
   "outputs": [
    {
     "name": "stderr",
     "output_type": "stream",
     "text": [
      "C:\\Users\\jabir\\AppData\\Local\\Temp\\ipykernel_3856\\4054289659.py:1: FutureWarning: A value is trying to be set on a copy of a DataFrame or Series through chained assignment using an inplace method.\n",
      "The behavior will change in pandas 3.0. This inplace method will never work because the intermediate object on which we are setting values always behaves as a copy.\n",
      "\n",
      "For example, when doing 'df[col].method(value, inplace=True)', try using 'df.method({col: value}, inplace=True)' or df[col] = df[col].method(value) instead, to perform the operation inplace on the original object.\n",
      "\n",
      "\n",
      "  df[\"chol\"].fillna(value=df[\"chol\"].mean(),inplace=True)\n"
     ]
    }
   ],
   "source": [
    "df[\"chol\"].fillna(value=df[\"chol\"].mean(),inplace=True)"
   ]
  },
  {
   "cell_type": "code",
   "execution_count": 126,
   "id": "584a9139-9ed7-4574-b099-6c8d0f1cd591",
   "metadata": {},
   "outputs": [
    {
     "data": {
      "text/html": [
       "<div>\n",
       "<style scoped>\n",
       "    .dataframe tbody tr th:only-of-type {\n",
       "        vertical-align: middle;\n",
       "    }\n",
       "\n",
       "    .dataframe tbody tr th {\n",
       "        vertical-align: top;\n",
       "    }\n",
       "\n",
       "    .dataframe thead th {\n",
       "        text-align: right;\n",
       "    }\n",
       "</style>\n",
       "<table border=\"1\" class=\"dataframe\">\n",
       "  <thead>\n",
       "    <tr style=\"text-align: right;\">\n",
       "      <th></th>\n",
       "      <th>age</th>\n",
       "      <th>sex</th>\n",
       "      <th>cp</th>\n",
       "      <th>trestbps</th>\n",
       "      <th>chol</th>\n",
       "      <th>fbs</th>\n",
       "      <th>restecg</th>\n",
       "      <th>thalch</th>\n",
       "      <th>exang</th>\n",
       "      <th>oldpeak</th>\n",
       "      <th>slope</th>\n",
       "      <th>thal</th>\n",
       "      <th>num</th>\n",
       "    </tr>\n",
       "  </thead>\n",
       "  <tbody>\n",
       "    <tr>\n",
       "      <th>0</th>\n",
       "      <td>63</td>\n",
       "      <td>1</td>\n",
       "      <td>3</td>\n",
       "      <td>145.0</td>\n",
       "      <td>233.0</td>\n",
       "      <td>1</td>\n",
       "      <td>0</td>\n",
       "      <td>150</td>\n",
       "      <td>0</td>\n",
       "      <td>2.3</td>\n",
       "      <td>0</td>\n",
       "      <td>0</td>\n",
       "      <td>0</td>\n",
       "    </tr>\n",
       "    <tr>\n",
       "      <th>1</th>\n",
       "      <td>41</td>\n",
       "      <td>1</td>\n",
       "      <td>1</td>\n",
       "      <td>135.0</td>\n",
       "      <td>203.0</td>\n",
       "      <td>0</td>\n",
       "      <td>1</td>\n",
       "      <td>132</td>\n",
       "      <td>0</td>\n",
       "      <td>0.0</td>\n",
       "      <td>1</td>\n",
       "      <td>0</td>\n",
       "      <td>0</td>\n",
       "    </tr>\n",
       "    <tr>\n",
       "      <th>2</th>\n",
       "      <td>57</td>\n",
       "      <td>1</td>\n",
       "      <td>0</td>\n",
       "      <td>140.0</td>\n",
       "      <td>192.0</td>\n",
       "      <td>0</td>\n",
       "      <td>1</td>\n",
       "      <td>148</td>\n",
       "      <td>0</td>\n",
       "      <td>0.4</td>\n",
       "      <td>1</td>\n",
       "      <td>0</td>\n",
       "      <td>0</td>\n",
       "    </tr>\n",
       "    <tr>\n",
       "      <th>3</th>\n",
       "      <td>52</td>\n",
       "      <td>1</td>\n",
       "      <td>3</td>\n",
       "      <td>118.0</td>\n",
       "      <td>186.0</td>\n",
       "      <td>0</td>\n",
       "      <td>0</td>\n",
       "      <td>190</td>\n",
       "      <td>0</td>\n",
       "      <td>0.0</td>\n",
       "      <td>1</td>\n",
       "      <td>0</td>\n",
       "      <td>0</td>\n",
       "    </tr>\n",
       "    <tr>\n",
       "      <th>4</th>\n",
       "      <td>57</td>\n",
       "      <td>1</td>\n",
       "      <td>0</td>\n",
       "      <td>110.0</td>\n",
       "      <td>201.0</td>\n",
       "      <td>0</td>\n",
       "      <td>1</td>\n",
       "      <td>126</td>\n",
       "      <td>1</td>\n",
       "      <td>1.5</td>\n",
       "      <td>1</td>\n",
       "      <td>0</td>\n",
       "      <td>0</td>\n",
       "    </tr>\n",
       "  </tbody>\n",
       "</table>\n",
       "</div>"
      ],
      "text/plain": [
       "   age  sex  cp  trestbps   chol  fbs  restecg  thalch  exang  oldpeak  slope  \\\n",
       "0   63    1   3     145.0  233.0    1        0     150      0      2.3      0   \n",
       "1   41    1   1     135.0  203.0    0        1     132      0      0.0      1   \n",
       "2   57    1   0     140.0  192.0    0        1     148      0      0.4      1   \n",
       "3   52    1   3     118.0  186.0    0        0     190      0      0.0      1   \n",
       "4   57    1   0     110.0  201.0    0        1     126      1      1.5      1   \n",
       "\n",
       "   thal  num  \n",
       "0     0    0  \n",
       "1     0    0  \n",
       "2     0    0  \n",
       "3     0    0  \n",
       "4     0    0  "
      ]
     },
     "execution_count": 126,
     "metadata": {},
     "output_type": "execute_result"
    }
   ],
   "source": [
    "df.head()"
   ]
  },
  {
   "cell_type": "markdown",
   "id": "e1a107dd-9f65-4d3b-9724-5f1780ab736e",
   "metadata": {},
   "source": [
    "now after removing the outliers of numerical variables we'll see the relations amongst them "
   ]
  },
  {
   "cell_type": "code",
   "execution_count": 129,
   "id": "4c5b3e55-17a5-408a-8ce1-f26084246004",
   "metadata": {},
   "outputs": [],
   "source": [
    "correlations=df[[\"age\",\"trestbps\",\"chol\",\"thalch\",\"oldpeak\"]].corr()"
   ]
  },
  {
   "cell_type": "code",
   "execution_count": 131,
   "id": "046dadac-9f01-4f23-b36a-dfbf337961e3",
   "metadata": {},
   "outputs": [
    {
     "data": {
      "image/png": "[encoded data removed]",
      "text/plain": [
       "<Figure size 640x480 with 2 Axes>"
      ]
     },
     "metadata": {},
     "output_type": "display_data"
    }
   ],
   "source": [
    "sns.heatmap(correlations,annot=True,cmap='coolwarm')\n",
    "plt.title(\"Correlation of each and every Variable\")\n",
    "plt.show()"
   ]
  },
  {
   "cell_type": "markdown",
   "id": "c9dda0ab-478f-4c65-af45-70e56d1c9ae7",
   "metadata": {},
   "source": [
    "### here we can see that all the variaboes do not have much strong correlation between them but we can see that age and thalch have some negative correlation.\n",
    "### we can also some weak negative relation between thalch and old peak\n",
    "### somw weak +ve relation between oldpeak and trestbps"
   ]
  },
  {
   "cell_type": "code",
   "execution_count": 134,
   "id": "76e2d678-5470-4795-aa9f-51e6ca10122b",
   "metadata": {},
   "outputs": [],
   "source": [
    "#let's plot some histogarams"
   ]
  },
  {
   "cell_type": "code",
   "execution_count": 136,
   "id": "337b9a56-e2c8-428d-a13e-81446ed0e0f7",
   "metadata": {},
   "outputs": [
    {
     "data": {
      "image/png": "[encoded data removed]",
      "text/plain": [
       "<Figure size 1200x800 with 5 Axes>"
      ]
     },
     "metadata": {},
     "output_type": "display_data"
    }
   ],
   "source": [
    "continuous_features = ['age', 'trestbps', 'chol', 'thalch', 'oldpeak']\n",
    "\n",
    "\n",
    "plt.figure(figsize=(12, 8))\n",
    "for i, feature in enumerate(continuous_features):\n",
    "    plt.subplot(2, 3, i + 1)\n",
    "    sns.histplot(data=df, x=feature, kde=True)\n",
    "    plt.title(f'Distribution of {feature}')\n",
    "plt.tight_layout()\n",
    "plt.show()"
   ]
  },
  {
   "cell_type": "markdown",
   "id": "fea6002f-0dee-4c58-9179-e422d9da8347",
   "metadata": {},
   "source": [
    "#here we can see that chol is a normally distributed data where we can say that mean=median and is bell shaped"
   ]
  },
  {
   "cell_type": "markdown",
   "id": "86153b87-91e5-4eb1-adf7-3f303821dd2f",
   "metadata": {},
   "source": [
    "#whereas all the other variabes seem to have slight left skewness where most of the data is on the higher side except oldpeak where it is slightly right skewed where most of the data is the the lower side"
   ]
  },
  {
   "cell_type": "code",
   "execution_count": 140,
   "id": "cdd9fd1f-acc3-4049-b7d1-d6286592e159",
   "metadata": {},
   "outputs": [],
   "source": [
    "##LET'S SPLIT TE DATA INTO x AND y NOW"
   ]
  },
  {
   "cell_type": "code",
   "execution_count": 142,
   "id": "05bad796-9247-41d9-b300-5bae555e96f2",
   "metadata": {},
   "outputs": [],
   "source": [
    "x=df[df.columns[df.columns != df.columns[12]]]\n",
    "x=pd.DataFrame(x)"
   ]
  },
  {
   "cell_type": "code",
   "execution_count": 144,
   "id": "1fa2087e-0d79-4237-95ef-00f5dc620c43",
   "metadata": {},
   "outputs": [],
   "source": [
    "x[\"age\"]=SS.fit_transform(x[[\"age\"]])"
   ]
  },
  {
   "cell_type": "code",
   "execution_count": 146,
   "id": "2a28ae8f-1497-4c9a-b62a-d6450e974534",
   "metadata": {},
   "outputs": [],
   "source": [
    "x[\"trestbps\"]=SS.fit_transform(x[[\"trestbps\"]])"
   ]
  },
  {
   "cell_type": "code",
   "execution_count": 148,
   "id": "818caa68-c1a6-48b9-9c82-a39f0472606b",
   "metadata": {},
   "outputs": [],
   "source": [
    "x[\"chol\"]=SS.fit_transform(x[[\"chol\"]])"
   ]
  },
  {
   "cell_type": "code",
   "execution_count": 150,
   "id": "f481bc9e-1b76-4cab-94d5-20af27d42b06",
   "metadata": {},
   "outputs": [],
   "source": [
    "x[\"thalch\"]=SS.fit_transform(x[[\"thalch\"]])"
   ]
  },
  {
   "cell_type": "code",
   "execution_count": 152,
   "id": "7e5404e1-597c-42a6-bb22-8b21b65061bb",
   "metadata": {},
   "outputs": [],
   "source": [
    "x[\"oldpeak\"]=SS.fit_transform(x[[\"oldpeak\"]])"
   ]
  },
  {
   "cell_type": "code",
   "execution_count": 154,
   "id": "2329e891-00a9-4fb2-8c4e-625ec1ae9bfd",
   "metadata": {},
   "outputs": [
    {
     "data": {
      "text/html": [
       "<div>\n",
       "<style scoped>\n",
       "    .dataframe tbody tr th:only-of-type {\n",
       "        vertical-align: middle;\n",
       "    }\n",
       "\n",
       "    .dataframe tbody tr th {\n",
       "        vertical-align: top;\n",
       "    }\n",
       "\n",
       "    .dataframe thead th {\n",
       "        text-align: right;\n",
       "    }\n",
       "</style>\n",
       "<table border=\"1\" class=\"dataframe\">\n",
       "  <thead>\n",
       "    <tr style=\"text-align: right;\">\n",
       "      <th></th>\n",
       "      <th>age</th>\n",
       "      <th>sex</th>\n",
       "      <th>cp</th>\n",
       "      <th>trestbps</th>\n",
       "      <th>chol</th>\n",
       "      <th>fbs</th>\n",
       "      <th>restecg</th>\n",
       "      <th>thalch</th>\n",
       "      <th>exang</th>\n",
       "      <th>oldpeak</th>\n",
       "      <th>slope</th>\n",
       "      <th>thal</th>\n",
       "    </tr>\n",
       "  </thead>\n",
       "  <tbody>\n",
       "    <tr>\n",
       "      <th>0</th>\n",
       "      <td>1.006027</td>\n",
       "      <td>1</td>\n",
       "      <td>3</td>\n",
       "      <td>0.710168</td>\n",
       "      <td>-2.339999e-01</td>\n",
       "      <td>1</td>\n",
       "      <td>0</td>\n",
       "      <td>0.524183</td>\n",
       "      <td>0</td>\n",
       "      <td>1.334996e+00</td>\n",
       "      <td>0</td>\n",
       "      <td>0</td>\n",
       "    </tr>\n",
       "    <tr>\n",
       "      <th>1</th>\n",
       "      <td>-1.397560</td>\n",
       "      <td>1</td>\n",
       "      <td>1</td>\n",
       "      <td>0.149226</td>\n",
       "      <td>-8.831494e-01</td>\n",
       "      <td>0</td>\n",
       "      <td>1</td>\n",
       "      <td>-0.147705</td>\n",
       "      <td>0</td>\n",
       "      <td>-8.445938e-01</td>\n",
       "      <td>1</td>\n",
       "      <td>0</td>\n",
       "    </tr>\n",
       "    <tr>\n",
       "      <th>2</th>\n",
       "      <td>0.350503</td>\n",
       "      <td>1</td>\n",
       "      <td>0</td>\n",
       "      <td>0.429697</td>\n",
       "      <td>-1.121171e+00</td>\n",
       "      <td>0</td>\n",
       "      <td>1</td>\n",
       "      <td>0.449529</td>\n",
       "      <td>0</td>\n",
       "      <td>-4.655347e-01</td>\n",
       "      <td>1</td>\n",
       "      <td>0</td>\n",
       "    </tr>\n",
       "    <tr>\n",
       "      <th>3</th>\n",
       "      <td>-0.195767</td>\n",
       "      <td>1</td>\n",
       "      <td>3</td>\n",
       "      <td>-0.804376</td>\n",
       "      <td>-1.251001e+00</td>\n",
       "      <td>0</td>\n",
       "      <td>0</td>\n",
       "      <td>2.017268</td>\n",
       "      <td>0</td>\n",
       "      <td>-8.445938e-01</td>\n",
       "      <td>1</td>\n",
       "      <td>0</td>\n",
       "    </tr>\n",
       "    <tr>\n",
       "      <th>4</th>\n",
       "      <td>0.350503</td>\n",
       "      <td>1</td>\n",
       "      <td>0</td>\n",
       "      <td>-1.253130</td>\n",
       "      <td>-9.264260e-01</td>\n",
       "      <td>0</td>\n",
       "      <td>1</td>\n",
       "      <td>-0.371668</td>\n",
       "      <td>1</td>\n",
       "      <td>5.768777e-01</td>\n",
       "      <td>1</td>\n",
       "      <td>0</td>\n",
       "    </tr>\n",
       "    <tr>\n",
       "      <th>...</th>\n",
       "      <td>...</td>\n",
       "      <td>...</td>\n",
       "      <td>...</td>\n",
       "      <td>...</td>\n",
       "      <td>...</td>\n",
       "      <td>...</td>\n",
       "      <td>...</td>\n",
       "      <td>...</td>\n",
       "      <td>...</td>\n",
       "      <td>...</td>\n",
       "      <td>...</td>\n",
       "      <td>...</td>\n",
       "    </tr>\n",
       "    <tr>\n",
       "      <th>903</th>\n",
       "      <td>-0.086513</td>\n",
       "      <td>1</td>\n",
       "      <td>0</td>\n",
       "      <td>-0.411717</td>\n",
       "      <td>6.149979e-16</td>\n",
       "      <td>0</td>\n",
       "      <td>1</td>\n",
       "      <td>-0.595631</td>\n",
       "      <td>0</td>\n",
       "      <td>5.768777e-01</td>\n",
       "      <td>2</td>\n",
       "      <td>1</td>\n",
       "    </tr>\n",
       "    <tr>\n",
       "      <th>904</th>\n",
       "      <td>0.896773</td>\n",
       "      <td>1</td>\n",
       "      <td>0</td>\n",
       "      <td>1.888147</td>\n",
       "      <td>-1.597214e+00</td>\n",
       "      <td>0</td>\n",
       "      <td>2</td>\n",
       "      <td>-0.595631</td>\n",
       "      <td>1</td>\n",
       "      <td>1.998349e+00</td>\n",
       "      <td>1</td>\n",
       "      <td>0</td>\n",
       "    </tr>\n",
       "    <tr>\n",
       "      <th>905</th>\n",
       "      <td>0.241249</td>\n",
       "      <td>1</td>\n",
       "      <td>2</td>\n",
       "      <td>2.112524</td>\n",
       "      <td>6.149979e-16</td>\n",
       "      <td>0</td>\n",
       "      <td>0</td>\n",
       "      <td>-0.483649</td>\n",
       "      <td>1</td>\n",
       "      <td>1.524525e+00</td>\n",
       "      <td>0</td>\n",
       "      <td>0</td>\n",
       "    </tr>\n",
       "    <tr>\n",
       "      <th>906</th>\n",
       "      <td>0.241249</td>\n",
       "      <td>1</td>\n",
       "      <td>2</td>\n",
       "      <td>0.654074</td>\n",
       "      <td>-7.749578e-01</td>\n",
       "      <td>1</td>\n",
       "      <td>2</td>\n",
       "      <td>-1.155538</td>\n",
       "      <td>0</td>\n",
       "      <td>-1.052100e-16</td>\n",
       "      <td>0</td>\n",
       "      <td>2</td>\n",
       "    </tr>\n",
       "    <tr>\n",
       "      <th>907</th>\n",
       "      <td>0.350503</td>\n",
       "      <td>1</td>\n",
       "      <td>0</td>\n",
       "      <td>0.541886</td>\n",
       "      <td>7.180859e-01</td>\n",
       "      <td>1</td>\n",
       "      <td>2</td>\n",
       "      <td>1.718651</td>\n",
       "      <td>0</td>\n",
       "      <td>-1.052100e-16</td>\n",
       "      <td>1</td>\n",
       "      <td>1</td>\n",
       "    </tr>\n",
       "  </tbody>\n",
       "</table>\n",
       "<p>908 rows × 12 columns</p>\n",
       "</div>"
      ],
      "text/plain": [
       "          age  sex  cp  trestbps          chol  fbs  restecg    thalch  exang  \\\n",
       "0    1.006027    1   3  0.710168 -2.339999e-01    1        0  0.524183      0   \n",
       "1   -1.397560    1   1  0.149226 -8.831494e-01    0        1 -0.147705      0   \n",
       "2    0.350503    1   0  0.429697 -1.121171e+00    0        1  0.449529      0   \n",
       "3   -0.195767    1   3 -0.804376 -1.251001e+00    0        0  2.017268      0   \n",
       "4    0.350503    1   0 -1.253130 -9.264260e-01    0        1 -0.371668      1   \n",
       "..        ...  ...  ..       ...           ...  ...      ...       ...    ...   \n",
       "903 -0.086513    1   0 -0.411717  6.149979e-16    0        1 -0.595631      0   \n",
       "904  0.896773    1   0  1.888147 -1.597214e+00    0        2 -0.595631      1   \n",
       "905  0.241249    1   2  2.112524  6.149979e-16    0        0 -0.483649      1   \n",
       "906  0.241249    1   2  0.654074 -7.749578e-01    1        2 -1.155538      0   \n",
       "907  0.350503    1   0  0.541886  7.180859e-01    1        2  1.718651      0   \n",
       "\n",
       "          oldpeak  slope  thal  \n",
       "0    1.334996e+00      0     0  \n",
       "1   -8.445938e-01      1     0  \n",
       "2   -4.655347e-01      1     0  \n",
       "3   -8.445938e-01      1     0  \n",
       "4    5.768777e-01      1     0  \n",
       "..            ...    ...   ...  \n",
       "903  5.768777e-01      2     1  \n",
       "904  1.998349e+00      1     0  \n",
       "905  1.524525e+00      0     0  \n",
       "906 -1.052100e-16      0     2  \n",
       "907 -1.052100e-16      1     1  \n",
       "\n",
       "[908 rows x 12 columns]"
      ]
     },
     "execution_count": 154,
     "metadata": {},
     "output_type": "execute_result"
    }
   ],
   "source": [
    "x"
   ]
  },
  {
   "cell_type": "code",
   "execution_count": 156,
   "id": "cb514a5a-acca-448f-a7d4-a4cc6036c8d0",
   "metadata": {},
   "outputs": [],
   "source": [
    "Y=df[\"num\"]"
   ]
  },
  {
   "cell_type": "markdown",
   "id": "0baacd5b-f556-4898-9867-b207a3ee5e8a",
   "metadata": {},
   "source": [
    "### WE WILL START OUR FIRST MODEL WITH TRAIN TEST SPLIT AND DATA VALIDATION"
   ]
  },
  {
   "cell_type": "code",
   "execution_count": 159,
   "id": "769d49cb-c9be-467e-857e-4205b8b62dbc",
   "metadata": {},
   "outputs": [],
   "source": [
    "from sklearn.model_selection import train_test_split"
   ]
  },
  {
   "cell_type": "code",
   "execution_count": 161,
   "id": "cf819f2b-e3ce-4a99-9878-e7d17ba4a8af",
   "metadata": {},
   "outputs": [],
   "source": [
    "from sklearn.metrics import mean_squared_error,accuracy_score,recall_score,f1_score,precision_score"
   ]
  },
  {
   "cell_type": "code",
   "execution_count": 163,
   "id": "4bf86063-25eb-4eed-b934-c36226c17c0c",
   "metadata": {},
   "outputs": [],
   "source": [
    "avgtrain_accuracy=[]#creating an empty list to collectr all the train  \n",
    "#accuracy scores so that we get the avg of all 100 iterations\n",
    "avgtest_accuracy=[]#creating an empty list to collectr all test accuracy \n",
    "#scores so that we get the avg of all 100 iterations\n",
    "avgtrainerror=[]\n",
    "avgtesterror=[]"
   ]
  },
  {
   "cell_type": "code",
   "execution_count": 165,
   "id": "578850d3-e556-4492-9a7b-fc8ff9c67ded",
   "metadata": {},
   "outputs": [],
   "source": [
    "from sklearn.tree import DecisionTreeClassifier"
   ]
  },
  {
   "cell_type": "code",
   "execution_count": 167,
   "id": "490f810b-8f47-4583-972c-d5277d130420",
   "metadata": {},
   "outputs": [],
   "source": [
    "DT=DecisionTreeClassifier(criterion=\"gini\",max_depth=9)"
   ]
  },
  {
   "cell_type": "code",
   "execution_count": 169,
   "id": "4cd31c98-ff21-428e-b6d0-478fe916f12b",
   "metadata": {},
   "outputs": [
    {
     "name": "stdout",
     "output_type": "stream",
     "text": [
      "Average Train accuracy score is:  0.843\n",
      "Average Test accuracy score is:  0.485\n"
     ]
    }
   ],
   "source": [
    "for i in range(1,101):#for 100 iterations\n",
    "    X_train,X_test,Y_train,Y_test=train_test_split(x,Y,test_size=0.20,random_state=i)\n",
    "    #random_state is given as i\n",
    "    DT.fit(X_train,Y_train)\n",
    "    ytrain_pred=DT.predict(X_train)\n",
    "    ytest_pred=DT.predict(X_test)\n",
    "    avgtrain_accuracy.append(accuracy_score(ytrain_pred,Y_train))\n",
    "#adding to empty list\n",
    "    avgtest_accuracy.append(accuracy_score(ytest_pred,Y_test))\n",
    "#adding to empty list\n",
    "print(\"Average Train accuracy score is: \",np.mean(avgtrain_accuracy).round(3))\n",
    "print(\"Average Test accuracy score is: \",np.mean(avgtest_accuracy).round(3))"
   ]
  },
  {
   "cell_type": "markdown",
   "id": "e8dac6c5-2942-4a28-94de-52f5766fb355",
   "metadata": {},
   "source": [
    "## a terrible test accuracy and an underfitted model ,maybe due to the no.of max-depth,we'll try increasing the max depth value"
   ]
  },
  {
   "cell_type": "code",
   "execution_count": 172,
   "id": "2acb78d8-deaa-407e-9509-88244a061387",
   "metadata": {},
   "outputs": [],
   "source": [
    "DT=DecisionTreeClassifier(criterion=\"gini\",max_depth=20)"
   ]
  },
  {
   "cell_type": "code",
   "execution_count": 174,
   "id": "608bbe53-4d9f-4cf2-ac81-03a27cdb1dab",
   "metadata": {},
   "outputs": [],
   "source": [
    "avgtrain_accuracy1=[]#creating an empty list to collectr all the train  \n",
    "#accuracy scores so that we get the avg of all 100 iterations\n",
    "avgtest_accuracy1=[]"
   ]
  },
  {
   "cell_type": "code",
   "execution_count": 176,
   "id": "09cbedf2-e324-4a0e-83a4-73186eb2b271",
   "metadata": {},
   "outputs": [
    {
     "name": "stdout",
     "output_type": "stream",
     "text": [
      "Average Train accuracy score is:  1.0\n",
      "Average Test accuracy score is:  0.457\n"
     ]
    }
   ],
   "source": [
    "for i in range(1,101):#for 100 iterations\n",
    "    X_train,X_test,Y_train,Y_test=train_test_split(x,Y,test_size=0.20,random_state=i)\n",
    "    #random_state is given as i\n",
    "    DT.fit(X_train,Y_train)\n",
    "    ytrain_pred=DT.predict(X_train)\n",
    "    ytest_pred=DT.predict(X_test)\n",
    "    avgtrain_accuracy1.append(accuracy_score(ytrain_pred,Y_train))\n",
    "#adding to empty list\n",
    "    avgtest_accuracy1.append(accuracy_score(ytest_pred,Y_test))\n",
    "#adding to empty list\n",
    "print(\"Average Train accuracy score is: \",np.mean(avgtrain_accuracy1).round(3))\n",
    "print(\"Average Test accuracy score is: \",np.mean(avgtest_accuracy1).round(3))"
   ]
  },
  {
   "cell_type": "markdown",
   "id": "62800461-ba43-4dab-b436-ef3ebe02e969",
   "metadata": {},
   "source": [
    "still the worst test accuracy"
   ]
  },
  {
   "cell_type": "code",
   "execution_count": 179,
   "id": "165ca17c-d4ea-40f5-9d05-0c720177615c",
   "metadata": {},
   "outputs": [],
   "source": [
    "DT=DecisionTreeClassifier(criterion=\"gini\",max_depth=20,min_samples_split=10,min_samples_leaf=10)"
   ]
  },
  {
   "cell_type": "code",
   "execution_count": 181,
   "id": "d0150837-95d6-4b44-9259-5182fb6f02ad",
   "metadata": {},
   "outputs": [],
   "source": [
    "avgtrain_accuracy2=[]#creating an empty list to collectr all the train  \n",
    "#accuracy scores so that we get the avg of all 100 iterations\n",
    "avgtest_accuracy2=[]"
   ]
  },
  {
   "cell_type": "code",
   "execution_count": 183,
   "id": "21f0aeee-2e34-4e31-8021-8cde7a09d53c",
   "metadata": {},
   "outputs": [
    {
     "name": "stdout",
     "output_type": "stream",
     "text": [
      "Average Train accuracy score is:  0.656\n",
      "Average Test accuracy score is:  0.504\n"
     ]
    }
   ],
   "source": [
    "for i in range(1,1001):#for 100 iterations\n",
    "    X_train,X_test,Y_train,Y_test=train_test_split(x,Y,test_size=0.20,random_state=i)\n",
    "    #random_state is given as i\n",
    "    DT.fit(X_train,Y_train)\n",
    "    ytrain_pred=DT.predict(X_train)\n",
    "    ytest_pred=DT.predict(X_test)\n",
    "    avgtrain_accuracy2.append(accuracy_score(ytrain_pred,Y_train))\n",
    "#adding to empty list\n",
    "    avgtest_accuracy2.append(accuracy_score(ytest_pred,Y_test))\n",
    "#adding to empty list\n",
    "print(\"Average Train accuracy score is: \",np.mean(avgtrain_accuracy2).round(3))\n",
    "print(\"Average Test accuracy score is: \",np.mean(avgtest_accuracy2).round(3))"
   ]
  },
  {
   "cell_type": "code",
   "execution_count": 184,
   "id": "c405ef0f-cd86-4d65-a456-9ec3e1aabe1c",
   "metadata": {},
   "outputs": [],
   "source": [
    "#this gives us the better train and test accuracy,still not the best but  we'll get there\n",
    "#we'll try and increase the min samples leaf and split parameter and check as it regularizes better"
   ]
  },
  {
   "cell_type": "code",
   "execution_count": 185,
   "id": "2298776d-09cb-4bc5-8774-dab744748060",
   "metadata": {},
   "outputs": [],
   "source": [
    "DT=DecisionTreeClassifier(criterion=\"gini\",max_depth=20,min_samples_split=20,min_samples_leaf=20)"
   ]
  },
  {
   "cell_type": "code",
   "execution_count": 186,
   "id": "f3f9b396-45df-412e-827f-397ce3f15c8d",
   "metadata": {},
   "outputs": [],
   "source": [
    "avgtrain_accuracy3=[]#creating an empty list to collectr all the train  \n",
    "#accuracy scores so that we get the avg of all 100 iterations\n",
    "avgtest_accuracy3=[]"
   ]
  },
  {
   "cell_type": "code",
   "execution_count": 187,
   "id": "f4434a10-8e61-4627-8178-9bcb7b2368ac",
   "metadata": {},
   "outputs": [
    {
     "name": "stdout",
     "output_type": "stream",
     "text": [
      "Average Train accuracy score is:  0.606\n",
      "Average Test accuracy score is:  0.525\n"
     ]
    }
   ],
   "source": [
    "for i in range(1,1001):#for 100 iterations\n",
    "    X_train,X_test,Y_train,Y_test=train_test_split(x,Y,test_size=0.20,random_state=i)\n",
    "    #random_state is given as i\n",
    "    DT.fit(X_train,Y_train)\n",
    "    ytrain_pred=DT.predict(X_train)\n",
    "    ytest_pred=DT.predict(X_test)\n",
    "    avgtrain_accuracy3.append(accuracy_score(ytrain_pred,Y_train))\n",
    "#adding to empty list\n",
    "    avgtest_accuracy3.append(accuracy_score(ytest_pred,Y_test))\n",
    "#adding to empty list\n",
    "print(\"Average Train accuracy score is: \",np.mean(avgtrain_accuracy3).round(3))\n",
    "print(\"Average Test accuracy score is: \",np.mean(avgtest_accuracy3).round(3))"
   ]
  },
  {
   "cell_type": "markdown",
   "id": "65ae5ee1-6f81-4c9d-989c-1062b55f3606",
   "metadata": {},
   "source": [
    "## i'll tune the hyperparameters using grid search cv and see and find the best parameters"
   ]
  },
  {
   "cell_type": "code",
   "execution_count": 193,
   "id": "ebae1918-02d8-4200-a5eb-56aae8b05d22",
   "metadata": {},
   "outputs": [],
   "source": [
    "from sklearn.model_selection import GridSearchCV\n"
   ]
  },
  {
   "cell_type": "code",
   "execution_count": 194,
   "id": "d46ffd7b-3bd3-4eed-a06a-07f09ef866b0",
   "metadata": {},
   "outputs": [
    {
     "name": "stdout",
     "output_type": "stream",
     "text": [
      "Best Parameters: {'ccp_alpha': 0.01, 'max_depth': 5, 'min_samples_leaf': 1, 'min_samples_split': 2}\n"
     ]
    }
   ],
   "source": [
    "param_grid = {\n",
    "    'max_depth': [5, 10, 15], \n",
    "    'min_samples_split': [2, 10, 20], \n",
    "    'min_samples_leaf': [1, 5, 10], \n",
    "    'ccp_alpha': [0.0, 0.01, 0.1]\n",
    "}\n",
    "\n",
    "grid_search = GridSearchCV(DecisionTreeClassifier(), param_grid, cv=5)\n",
    "grid_search.fit(X_train, Y_train)\n",
    "\n",
    "print(\"Best Parameters:\", grid_search.best_params_)"
   ]
  },
  {
   "cell_type": "code",
   "execution_count": 195,
   "id": "f8c972a1-c9b1-4c5d-a49f-1a4bf647661a",
   "metadata": {},
   "outputs": [],
   "source": [
    "#we got the best paramters ,let's see if it increases the accuracy"
   ]
  },
  {
   "cell_type": "code",
   "execution_count": 200,
   "id": "6d899a15-d568-45be-ad88-935eeedda80d",
   "metadata": {},
   "outputs": [],
   "source": [
    "DT=DecisionTreeClassifier(criterion=\"gini\",max_depth=5,min_samples_split=2,min_samples_leaf=1)"
   ]
  },
  {
   "cell_type": "code",
   "execution_count": 202,
   "id": "84e68c41-2d95-4336-983f-1096712575f9",
   "metadata": {},
   "outputs": [],
   "source": [
    "avgtrain_accuracy4=[]#creating an empty list to collectr all the train  \n",
    "#accuracy scores so that we get the avg of all 100 iterations\n",
    "avgtest_accuracy4=[]"
   ]
  },
  {
   "cell_type": "code",
   "execution_count": 204,
   "id": "891e86b1-3ba2-4eb1-b363-beea840d0aca",
   "metadata": {},
   "outputs": [
    {
     "name": "stdout",
     "output_type": "stream",
     "text": [
      "Average Train accuracy score is:  0.639\n",
      "Average Test accuracy score is:  0.522\n"
     ]
    }
   ],
   "source": [
    "for i in range(1,1001):#for 100 iterations\n",
    "    X_train,X_test,Y_train,Y_test=train_test_split(x,Y,test_size=0.20,random_state=i)\n",
    "    #random_state is given as i\n",
    "    DT.fit(X_train,Y_train)\n",
    "    ytrain_pred=DT.predict(X_train)\n",
    "    ytest_pred=DT.predict(X_test)\n",
    "    avgtrain_accuracy4.append(accuracy_score(ytrain_pred,Y_train))\n",
    "#adding to empty list\n",
    "    avgtest_accuracy4.append(accuracy_score(ytest_pred,Y_test))\n",
    "#adding to empty list\n",
    "print(\"Average Train accuracy score is: \",np.mean(avgtrain_accuracy4).round(3))\n",
    "print(\"Average Test accuracy score is: \",np.mean(avgtest_accuracy4).round(3))"
   ]
  },
  {
   "cell_type": "markdown",
   "id": "d7b0e793-7202-4f39-8707-82ca39c37811",
   "metadata": {},
   "source": [
    "Our accuracies didnt get any better we'll try and use the ensemble methods to increase our accuracy"
   ]
  },
  {
   "cell_type": "code",
   "execution_count": 207,
   "id": "13b44134-f202-45db-b5e0-45f56aff3565",
   "metadata": {},
   "outputs": [],
   "source": [
    "from sklearn.ensemble import BaggingClassifier"
   ]
  },
  {
   "cell_type": "code",
   "execution_count": 209,
   "id": "aba27435-119c-432c-90e0-6547d674dc09",
   "metadata": {},
   "outputs": [],
   "source": [
    "bagdt = BaggingClassifier(DecisionTreeClassifier(max_depth=10, min_samples_split=2, min_samples_leaf=1),\n",
    "                          n_estimators=200, max_features=0.8, max_samples=0.7)\n"
   ]
  },
  {
   "cell_type": "code",
   "execution_count": 211,
   "id": "2c4cb969-daa7-4269-a375-800a037130f6",
   "metadata": {},
   "outputs": [],
   "source": [
    "avgtrain_accuracy5=[]#creating an empty list to collectr all the train  \n",
    "#accuracy scores so that we get the avg of all 100 iterations\n",
    "avgtest_accuracy5=[]"
   ]
  },
  {
   "cell_type": "code",
   "execution_count": 213,
   "id": "eb718688-b8f6-4d41-a5c5-fbb25d576e5b",
   "metadata": {},
   "outputs": [
    {
     "name": "stdout",
     "output_type": "stream",
     "text": [
      "Average Train accuracy score is:  0.971\n",
      "Average Test accuracy score is:  0.569\n"
     ]
    }
   ],
   "source": [
    "for i in range(1,101):#for 100 iterations\n",
    "    X_train,X_test,Y_train,Y_test=train_test_split(x,Y,test_size=0.20,random_state=i)\n",
    "    #random_state is given as i\n",
    "    bagdt.fit(X_train,Y_train)\n",
    "    ytrain_pred=bagdt.predict(X_train)\n",
    "    ytest_pred=bagdt.predict(X_test)\n",
    "    avgtrain_accuracy5.append(accuracy_score(ytrain_pred,Y_train))\n",
    "#adding to empty list\n",
    "    avgtest_accuracy5.append(accuracy_score(ytest_pred,Y_test))\n",
    "#adding to empty list\n",
    "print(\"Average Train accuracy score is: \",np.mean(avgtrain_accuracy5).round(3))\n",
    "print(\"Average Test accuracy score is: \",np.mean(avgtest_accuracy5).round(3))"
   ]
  },
  {
   "cell_type": "code",
   "execution_count": 215,
   "id": "9255f114-68fc-41fc-aad6-2f444ecaecef",
   "metadata": {},
   "outputs": [],
   "source": [
    "bagdt=BaggingClassifier(DecisionTreeClassifier(criterion=\"gini\",max_depth=10,min_samples_split=5,min_samples_leaf=5),n_estimators=200,max_features=0.8,max_samples=0.7)"
   ]
  },
  {
   "cell_type": "code",
   "execution_count": 217,
   "id": "2b605d71-3910-4af8-8b3a-81386458c011",
   "metadata": {},
   "outputs": [],
   "source": [
    "avgtrain_accuracy8=[]#creating an empty list to collectr all the train  \n",
    "#accuracy scores so that we get the avg of all 100 iterations\n",
    "avgtest_accuracy8=[]"
   ]
  },
  {
   "cell_type": "code",
   "execution_count": 219,
   "id": "a12694c9-8747-4706-9fc1-58a98c06f1aa",
   "metadata": {},
   "outputs": [
    {
     "name": "stdout",
     "output_type": "stream",
     "text": [
      "Average Train accuracy score is:  0.749\n",
      "Average Test accuracy score is:  0.569\n"
     ]
    }
   ],
   "source": [
    "for i in range(1,101):#for 100 iterations\n",
    "    X_train,X_test,Y_train,Y_test=train_test_split(x,Y,test_size=0.20,random_state=i)\n",
    "    #random_state is given as i\n",
    "    bagdt.fit(X_train,Y_train)\n",
    "    ytrain_pred=bagdt.predict(X_train)\n",
    "    ytest_pred=bagdt.predict(X_test)\n",
    "    avgtrain_accuracy8.append(accuracy_score(ytrain_pred,Y_train))\n",
    "#adding to empty list\n",
    "    avgtest_accuracy8.append(accuracy_score(ytest_pred,Y_test))\n",
    "#adding to empty list\n",
    "print(\"Average Train accuracy score is: \",np.mean(avgtrain_accuracy8).round(3))\n",
    "print(\"Average Test accuracy score is: \",np.mean(avgtest_accuracy8).round(3))"
   ]
  },
  {
   "cell_type": "code",
   "execution_count": 239,
   "id": "28c3b85c-c0b9-443e-a568-1e38565eb06c",
   "metadata": {},
   "outputs": [],
   "source": [
    "bagdt1=BaggingClassifier(DecisionTreeClassifier(criterion=\"gini\",max_depth=15,min_samples_split=4,min_samples_leaf=6),n_estimators=200,max_features=0.8,max_samples=0.7)"
   ]
  },
  {
   "cell_type": "code",
   "execution_count": 241,
   "id": "edac1720-ce0a-4821-af71-b668eda73010",
   "metadata": {},
   "outputs": [],
   "source": [
    "avgtrain_accuracy9=[]#creating an empty list to collectr all the train  \n",
    "#accuracy scores so that we get the avg of all 100 iterations\n",
    "avgtest_accuracy9=[]"
   ]
  },
  {
   "cell_type": "code",
   "execution_count": 243,
   "id": "d3e84e25-0721-407c-b3ba-168abd719ecd",
   "metadata": {},
   "outputs": [
    {
     "name": "stdout",
     "output_type": "stream",
     "text": [
      "Average Train accuracy score is:  0.719\n",
      "Average Test accuracy score is:  0.57\n"
     ]
    }
   ],
   "source": [
    "for i in range(1,101):#for 100 iterations\n",
    "    X_train,X_test,Y_train,Y_test=train_test_split(x,Y,test_size=0.20,random_state=i)\n",
    "    #random_state is given as i\n",
    "    bagdt1.fit(X_train,Y_train)\n",
    "    ytrain_pred=bagdt1.predict(X_train)\n",
    "    ytest_pred=bagdt1.predict(X_test)\n",
    "    avgtrain_accuracy9.append(accuracy_score(ytrain_pred,Y_train))\n",
    "#adding to empty list\n",
    "    avgtest_accuracy9.append(accuracy_score(ytest_pred,Y_test))\n",
    "#adding to empty list\n",
    "print(\"Average Train accuracy score is: \",np.mean(avgtrain_accuracy9).round(3))\n",
    "print(\"Average Test accuracy score is: \",np.mean(avgtest_accuracy9).round(3))"
   ]
  },
  {
   "cell_type": "markdown",
   "id": "ee9378bb-52f1-4533-917b-1eadda3d6b4e",
   "metadata": {},
   "source": [
    "#With all the models and hyperparameters tried and tested ablove this model with below paramters performed better with less variation between train and test accuracy ,this can get better as this accuracy is not that good but,i'll leave it here.\n",
    "#bagdt1=BaggingClassifier(DecisionTreeClassifier(criterion=\"gini\",max_depth=15,min_samples_split=4,min_samples_leaf=6),n_estimators=200,max_features=0.8,max_samples=0.7)"
   ]
  },
  {
   "cell_type": "code",
   "execution_count": 252,
   "id": "10ec4d6a-b7d3-474d-93ca-149c787871e4",
   "metadata": {},
   "outputs": [
    {
     "name": "stdout",
     "output_type": "stream",
     "text": [
      "recall score: 0.331\n",
      "precision score: 0.409\n",
      "f1 score: 0.322\n"
     ]
    },
    {
     "name": "stderr",
     "output_type": "stream",
     "text": [
      "C:\\Users\\jabir\\anaconda3\\Lib\\site-packages\\sklearn\\metrics\\_classification.py:1509: UndefinedMetricWarning: Precision is ill-defined and being set to 0.0 in labels with no predicted samples. Use `zero_division` parameter to control this behavior.\n",
      "  _warn_prf(average, modifier, f\"{metric.capitalize()} is\", len(result))\n"
     ]
    }
   ],
   "source": [
    "print(\"recall score:\", recall_score(Y_test, ytest_pred, average=\"macro\").round(3))\n",
    "print(\"precision score:\", precision_score(Y_test, ytest_pred, average=\"macro\").round(3))\n",
    "print(\"f1 score:\", f1_score(Y_test, ytest_pred, average=\"macro\").round(3))\n"
   ]
  },
  {
   "cell_type": "code",
   "execution_count": 256,
   "id": "19fa6ad7-178d-4109-af67-330130220f3f",
   "metadata": {},
   "outputs": [],
   "source": [
    "from sklearn.metrics import roc_curve,roc_auc_score"
   ]
  },
  {
   "cell_type": "code",
   "execution_count": 260,
   "id": "a434fa6f-5842-4ca6-b273-13134b7c0920",
   "metadata": {},
   "outputs": [],
   "source": [
    "yprob=bagdt1.predict_proba(X_test)[:,1:]\n"
   ]
  },
  {
   "cell_type": "code",
   "execution_count": 262,
   "id": "08f243c6-110d-46e5-9f2c-41462ad41ed4",
   "metadata": {},
   "outputs": [
    {
     "ename": "ValueError",
     "evalue": "multiclass format is not supported",
     "output_type": "error",
     "traceback": [
      "\u001b[1;31m---------------------------------------------------------------------------\u001b[0m",
      "\u001b[1;31mValueError\u001b[0m                                Traceback (most recent call last)",
      "Cell \u001b[1;32mIn[262], line 1\u001b[0m\n\u001b[1;32m----> 1\u001b[0m fpr,tpr,dummy\u001b[38;5;241m=\u001b[39mroc_curve(Y_test,yprob)\n",
      "File \u001b[1;32m~\\anaconda3\\Lib\\site-packages\\sklearn\\utils\\_param_validation.py:213\u001b[0m, in \u001b[0;36mvalidate_params.<locals>.decorator.<locals>.wrapper\u001b[1;34m(*args, **kwargs)\u001b[0m\n\u001b[0;32m    207\u001b[0m \u001b[38;5;28;01mtry\u001b[39;00m:\n\u001b[0;32m    208\u001b[0m     \u001b[38;5;28;01mwith\u001b[39;00m config_context(\n\u001b[0;32m    209\u001b[0m         skip_parameter_validation\u001b[38;5;241m=\u001b[39m(\n\u001b[0;32m    210\u001b[0m             prefer_skip_nested_validation \u001b[38;5;129;01mor\u001b[39;00m global_skip_validation\n\u001b[0;32m    211\u001b[0m         )\n\u001b[0;32m    212\u001b[0m     ):\n\u001b[1;32m--> 213\u001b[0m         \u001b[38;5;28;01mreturn\u001b[39;00m func(\u001b[38;5;241m*\u001b[39margs, \u001b[38;5;241m*\u001b[39m\u001b[38;5;241m*\u001b[39mkwargs)\n\u001b[0;32m    214\u001b[0m \u001b[38;5;28;01mexcept\u001b[39;00m InvalidParameterError \u001b[38;5;28;01mas\u001b[39;00m e:\n\u001b[0;32m    215\u001b[0m     \u001b[38;5;66;03m# When the function is just a wrapper around an estimator, we allow\u001b[39;00m\n\u001b[0;32m    216\u001b[0m     \u001b[38;5;66;03m# the function to delegate validation to the estimator, but we replace\u001b[39;00m\n\u001b[0;32m    217\u001b[0m     \u001b[38;5;66;03m# the name of the estimator by the name of the function in the error\u001b[39;00m\n\u001b[0;32m    218\u001b[0m     \u001b[38;5;66;03m# message to avoid confusion.\u001b[39;00m\n\u001b[0;32m    219\u001b[0m     msg \u001b[38;5;241m=\u001b[39m re\u001b[38;5;241m.\u001b[39msub(\n\u001b[0;32m    220\u001b[0m         \u001b[38;5;124mr\u001b[39m\u001b[38;5;124m\"\u001b[39m\u001b[38;5;124mparameter of \u001b[39m\u001b[38;5;124m\\\u001b[39m\u001b[38;5;124mw+ must be\u001b[39m\u001b[38;5;124m\"\u001b[39m,\n\u001b[0;32m    221\u001b[0m         \u001b[38;5;124mf\u001b[39m\u001b[38;5;124m\"\u001b[39m\u001b[38;5;124mparameter of \u001b[39m\u001b[38;5;132;01m{\u001b[39;00mfunc\u001b[38;5;241m.\u001b[39m\u001b[38;5;18m__qualname__\u001b[39m\u001b[38;5;132;01m}\u001b[39;00m\u001b[38;5;124m must be\u001b[39m\u001b[38;5;124m\"\u001b[39m,\n\u001b[0;32m    222\u001b[0m         \u001b[38;5;28mstr\u001b[39m(e),\n\u001b[0;32m    223\u001b[0m     )\n",
      "File \u001b[1;32m~\\anaconda3\\Lib\\site-packages\\sklearn\\metrics\\_ranking.py:1108\u001b[0m, in \u001b[0;36mroc_curve\u001b[1;34m(y_true, y_score, pos_label, sample_weight, drop_intermediate)\u001b[0m\n\u001b[0;32m   1006\u001b[0m \u001b[38;5;129m@validate_params\u001b[39m(\n\u001b[0;32m   1007\u001b[0m     {\n\u001b[0;32m   1008\u001b[0m         \u001b[38;5;124m\"\u001b[39m\u001b[38;5;124my_true\u001b[39m\u001b[38;5;124m\"\u001b[39m: [\u001b[38;5;124m\"\u001b[39m\u001b[38;5;124marray-like\u001b[39m\u001b[38;5;124m\"\u001b[39m],\n\u001b[1;32m   (...)\u001b[0m\n\u001b[0;32m   1017\u001b[0m     y_true, y_score, \u001b[38;5;241m*\u001b[39m, pos_label\u001b[38;5;241m=\u001b[39m\u001b[38;5;28;01mNone\u001b[39;00m, sample_weight\u001b[38;5;241m=\u001b[39m\u001b[38;5;28;01mNone\u001b[39;00m, drop_intermediate\u001b[38;5;241m=\u001b[39m\u001b[38;5;28;01mTrue\u001b[39;00m\n\u001b[0;32m   1018\u001b[0m ):\n\u001b[0;32m   1019\u001b[0m \u001b[38;5;250m    \u001b[39m\u001b[38;5;124;03m\"\"\"Compute Receiver operating characteristic (ROC).\u001b[39;00m\n\u001b[0;32m   1020\u001b[0m \n\u001b[0;32m   1021\u001b[0m \u001b[38;5;124;03m    Note: this implementation is restricted to the binary classification task.\u001b[39;00m\n\u001b[1;32m   (...)\u001b[0m\n\u001b[0;32m   1106\u001b[0m \u001b[38;5;124;03m    array([ inf, 0.8 , 0.4 , 0.35, 0.1 ])\u001b[39;00m\n\u001b[0;32m   1107\u001b[0m \u001b[38;5;124;03m    \"\"\"\u001b[39;00m\n\u001b[1;32m-> 1108\u001b[0m     fps, tps, thresholds \u001b[38;5;241m=\u001b[39m _binary_clf_curve(\n\u001b[0;32m   1109\u001b[0m         y_true, y_score, pos_label\u001b[38;5;241m=\u001b[39mpos_label, sample_weight\u001b[38;5;241m=\u001b[39msample_weight\n\u001b[0;32m   1110\u001b[0m     )\n\u001b[0;32m   1112\u001b[0m     \u001b[38;5;66;03m# Attempt to drop thresholds corresponding to points in between and\u001b[39;00m\n\u001b[0;32m   1113\u001b[0m     \u001b[38;5;66;03m# collinear with other points. These are always suboptimal and do not\u001b[39;00m\n\u001b[0;32m   1114\u001b[0m     \u001b[38;5;66;03m# appear on a plotted ROC curve (and thus do not affect the AUC).\u001b[39;00m\n\u001b[1;32m   (...)\u001b[0m\n\u001b[0;32m   1119\u001b[0m     \u001b[38;5;66;03m# but does not drop more complicated cases like fps = [1, 3, 7],\u001b[39;00m\n\u001b[0;32m   1120\u001b[0m     \u001b[38;5;66;03m# tps = [1, 2, 4]; there is no harm in keeping too many thresholds.\u001b[39;00m\n\u001b[0;32m   1121\u001b[0m     \u001b[38;5;28;01mif\u001b[39;00m drop_intermediate \u001b[38;5;129;01mand\u001b[39;00m \u001b[38;5;28mlen\u001b[39m(fps) \u001b[38;5;241m>\u001b[39m \u001b[38;5;241m2\u001b[39m:\n",
      "File \u001b[1;32m~\\anaconda3\\Lib\\site-packages\\sklearn\\metrics\\_ranking.py:817\u001b[0m, in \u001b[0;36m_binary_clf_curve\u001b[1;34m(y_true, y_score, pos_label, sample_weight)\u001b[0m\n\u001b[0;32m    815\u001b[0m y_type \u001b[38;5;241m=\u001b[39m type_of_target(y_true, input_name\u001b[38;5;241m=\u001b[39m\u001b[38;5;124m\"\u001b[39m\u001b[38;5;124my_true\u001b[39m\u001b[38;5;124m\"\u001b[39m)\n\u001b[0;32m    816\u001b[0m \u001b[38;5;28;01mif\u001b[39;00m \u001b[38;5;129;01mnot\u001b[39;00m (y_type \u001b[38;5;241m==\u001b[39m \u001b[38;5;124m\"\u001b[39m\u001b[38;5;124mbinary\u001b[39m\u001b[38;5;124m\"\u001b[39m \u001b[38;5;129;01mor\u001b[39;00m (y_type \u001b[38;5;241m==\u001b[39m \u001b[38;5;124m\"\u001b[39m\u001b[38;5;124mmulticlass\u001b[39m\u001b[38;5;124m\"\u001b[39m \u001b[38;5;129;01mand\u001b[39;00m pos_label \u001b[38;5;129;01mis\u001b[39;00m \u001b[38;5;129;01mnot\u001b[39;00m \u001b[38;5;28;01mNone\u001b[39;00m)):\n\u001b[1;32m--> 817\u001b[0m     \u001b[38;5;28;01mraise\u001b[39;00m \u001b[38;5;167;01mValueError\u001b[39;00m(\u001b[38;5;124m\"\u001b[39m\u001b[38;5;132;01m{0}\u001b[39;00m\u001b[38;5;124m format is not supported\u001b[39m\u001b[38;5;124m\"\u001b[39m\u001b[38;5;241m.\u001b[39mformat(y_type))\n\u001b[0;32m    819\u001b[0m check_consistent_length(y_true, y_score, sample_weight)\n\u001b[0;32m    820\u001b[0m y_true \u001b[38;5;241m=\u001b[39m column_or_1d(y_true)\n",
      "\u001b[1;31mValueError\u001b[0m: multiclass format is not supported"
     ]
    }
   ],
   "source": [
    "fpr,tpr,dummy=roc_curve(Y_test,yprob)\n",
    "#dummy is a parameter without which the roc fn wont work"
   ]
  },
  {
   "cell_type": "code",
   "execution_count": 266,
   "id": "ffa55225-18e0-4b23-b7aa-e353cc9a0c43",
   "metadata": {},
   "outputs": [],
   "source": [
    "##roc does not support multiple classification it only supports binary classification"
   ]
  },
  {
   "cell_type": "markdown",
   "id": "d6f09b27-33bf-4def-b9f6-1b2f1f707242",
   "metadata": {},
   "source": [
    "### INTERVIEW QUESTIONS"
   ]
  },
  {
   "cell_type": "markdown",
   "id": "0d08fe2e-c19e-4df3-b8c3-dafbdb5829f1",
   "metadata": {},
   "source": [
    "## 1. What are some common hyperparameters of decision tree models, and how do they affect the model's performance?"
   ]
  },
  {
   "cell_type": "markdown",
   "id": "460b1ecd-5e91-4ed2-b7a0-d53c6e58b115",
   "metadata": {},
   "source": [
    "Some common hyperparameters for decision tree models are max-depth which limits the depth of the tree ,max features which chooses the no of features and criterion which asks us to choose from the option of gin ior entropy,gini gives much smaller numbers and entropy is a little bit more computationally expensive,even though they both are pretty similar"
   ]
  },
  {
   "cell_type": "markdown",
   "id": "0e47a321-625f-4312-8859-ca82bdccefda",
   "metadata": {},
   "source": [
    "## 2. What is the difference between the Label encoding and One-hot encoding?"
   ]
  },
  {
   "cell_type": "markdown",
   "id": "b79f8fb2-6757-4617-97ce-c194f15df6ab",
   "metadata": {},
   "source": [
    "one hot encoding encodes all the categorical data dimensionally whereas in label encoding the data gets encoded based on the alphabetical order of it's unique features.one hot encoding creates dimensions and lbel encoding gives labels and has ordinal relationship eg,red=2,gree=1 and blue=0 where red>green which doesn't make sense ,such relationship is not introduced in one hot encoding it  creates separate columns for red green and blue and marks as 1 wheerever it is there in the original data."
   ]
  },
  {
   "cell_type": "code",
   "execution_count": null,
   "id": "1755f2ca-7cc6-4de0-8921-ccb13e58288b",
   "metadata": {},
   "outputs": [],
   "source": []
  }
 ],
 "metadata": {
  "kernelspec": {
   "display_name": "Python 3 (ipykernel)",
   "language": "python",
   "name": "python3"
  },
  "language_info": {
   "codemirror_mode": {
    "name": "ipython",
    "version": 3
   },
   "file_extension": ".py",
   "mimetype": "text/x-python",
   "name": "python",
   "nbconvert_exporter": "python",
   "pygments_lexer": "ipython3",
   "version": "3.12.4"
  }
 },
 "nbformat": 4,
 "nbformat_minor": 5
}
